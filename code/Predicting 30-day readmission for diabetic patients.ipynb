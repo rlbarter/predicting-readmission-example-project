{
 "cells": [
  {
   "cell_type": "markdown",
   "metadata": {
    "slideshow": {
     "slide_type": "slide"
    }
   },
   "source": [
    "# Predicting 30-day readmission for diabetic patients\n",
    "\n",
    "By Rebecca Barter\n",
    "\n",
    "Data from: https://archive.ics.uci.edu/ml/datasets/diabetes+130-us+hospitals+for+years+1999-2008"
   ]
  },
  {
   "cell_type": "markdown",
   "metadata": {
    "slideshow": {
     "slide_type": "slide"
    }
   },
   "source": [
    "# This presentation isn't about teaching code\n",
    "\n",
    "Try not to focus on the code itself too much. You're not expected to understand it all!\n",
    "\n",
    "It's useful to see examples of sophisticated code. To learn about the coding style I use in this presentation, the following blog posts will be helpeful\n",
    "\n",
    "- **tidyverse** (ggplot, %>%, mutate, ...): http://www.rebeccabarter.com/blog/2019-08-05_base_r_to_tidyverse/\n",
    "\n",
    "- **purrr** (map functions): http://www.rebeccabarter.com/blog/2019-08-19_purrr/\n",
    "\n",
    "- **tidymodels** (ML): http://www.rebeccabarter.com/blog/2020-03-25_machine_learning/"
   ]
  },
  {
   "cell_type": "markdown",
   "metadata": {
    "slideshow": {
     "slide_type": "slide"
    }
   },
   "source": [
    "## Loading packages and data\n"
   ]
  },
  {
   "cell_type": "code",
   "execution_count": null,
   "metadata": {
    "scrolled": true
   },
   "outputs": [],
   "source": [
    "library(tidyverse)\n",
    "library(tidymodels)\n",
    "# load the data\n",
    "diabetic_orig <- read_csv(\"../data/raw_data/diabetic_data.csv\")"
   ]
  },
  {
   "cell_type": "markdown",
   "metadata": {
    "slideshow": {
     "slide_type": "slide"
    }
   },
   "source": [
    "## First glimpse of the data"
   ]
  },
  {
   "cell_type": "markdown",
   "metadata": {},
   "source": [
    "Identify the dimension of the data:"
   ]
  },
  {
   "cell_type": "code",
   "execution_count": null,
   "metadata": {},
   "outputs": [],
   "source": [
    "# identify the dimension of the data\n",
    "print(dim(diabetic_orig))"
   ]
  },
  {
   "cell_type": "markdown",
   "metadata": {},
   "source": [
    "Print out the first 6 rows of the data"
   ]
  },
  {
   "cell_type": "code",
   "execution_count": null,
   "metadata": {},
   "outputs": [],
   "source": [
    "# set width = Inf so the tibble does not suppress columns in the console\n",
    "head(diabetic_orig) %>%\n",
    "  print(width = Inf)"
   ]
  },
  {
   "cell_type": "markdown",
   "metadata": {
    "slideshow": {
     "slide_type": "fragment"
    }
   },
   "source": [
    "Things to notice:\n",
    "\n",
    "\n",
    "- The variables are mostly categorical and coded using characters such as \"No\", \"Steady\", \"Up\", etc\n",
    "\n",
    "- `age` is coded categorically as intervals.\n",
    "\n",
    "- Missing values seem to be coded as `?`.\n",
    "\n",
    "- `admission_type_id` is coded numerically.\n",
    "\n",
    "- The diagnosis variables `diag_1`, `diag_1`, and `diag_1` are coded using ICD diagnosis codes.\n"
   ]
  },
  {
   "cell_type": "markdown",
   "metadata": {
    "slideshow": {
     "slide_type": "slide"
    }
   },
   "source": [
    "## Missing value check"
   ]
  },
  {
   "cell_type": "code",
   "execution_count": null,
   "metadata": {
    "scrolled": true
   },
   "outputs": [],
   "source": [
    "diabetic_orig %>%\n",
    "  # apply a function to every column\n",
    "  map_dbl(function(.var) {\n",
    "      sum(.var == \"?\") / length(.var)\n",
    "    }) %>%\n",
    "  # arrange in decreasing order\n",
    "  sort(decreasing = TRUE) %>%\n",
    "  print()"
   ]
  },
  {
   "cell_type": "markdown",
   "metadata": {
    "slideshow": {
     "slide_type": "slide"
    }
   },
   "source": [
    "## Unique values check"
   ]
  },
  {
   "cell_type": "code",
   "execution_count": null,
   "metadata": {
    "scrolled": true
   },
   "outputs": [],
   "source": [
    "diabetic_orig %>%\n",
    "  # apply n_distinct() to every column\n",
    "  map_dbl(n_distinct) %>%\n",
    "  sort() %>%\n",
    "  print()"
   ]
  },
  {
   "cell_type": "markdown",
   "metadata": {
    "slideshow": {
     "slide_type": "slide"
    }
   },
   "source": [
    "## Check ranges"
   ]
  },
  {
   "cell_type": "code",
   "execution_count": null,
   "metadata": {},
   "outputs": [],
   "source": [
    "diabetic_orig %>% \n",
    "  # remove the class and id variables\n",
    "  select_if(is.numeric) %>%\n",
    "  select(-encounter_id, -patient_nbr) %>%\n",
    "  # calculate the max and min for each column and put the results in a df\n",
    "  map_df(~data.frame(min = min(., na.rm = T), \n",
    "                     max = max(., na.rm = T)), .id = \"variable\") %>%\n",
    "  print()"
   ]
  },
  {
   "cell_type": "markdown",
   "metadata": {
    "slideshow": {
     "slide_type": "slide"
    }
   },
   "source": [
    "## Clean the data\n",
    "\n",
    "I wrote an R script (`clean.R`) that cleans the data, then I saved the clean data as \"diabetic_data_clean.csv\" in a new folder."
   ]
  },
  {
   "cell_type": "code",
   "execution_count": null,
   "metadata": {},
   "outputs": [],
   "source": [
    "diabetic_clean <- read_csv(\"../data/processed_data/diabetic_data_clean.csv\")"
   ]
  },
  {
   "cell_type": "code",
   "execution_count": null,
   "metadata": {
    "scrolled": true
   },
   "outputs": [],
   "source": [
    "head(diabetic_clean) %>%\n",
    "  print(width = Inf)"
   ]
  },
  {
   "cell_type": "markdown",
   "metadata": {
    "slideshow": {
     "slide_type": "slide"
    }
   },
   "source": [
    "## Explore the clean data\n",
    "\n",
    "### How many unique encounters for each patient?"
   ]
  },
  {
   "cell_type": "code",
   "execution_count": null,
   "metadata": {},
   "outputs": [],
   "source": [
    "diabetic_clean %>%\n",
    "  # count the number of times each patient number occurs in the data\n",
    "  count(patient_nbr) %>%\n",
    "  arrange(desc(n)) %>%\n",
    "  print()"
   ]
  },
  {
   "cell_type": "markdown",
   "metadata": {},
   "source": [
    "Visualize it!"
   ]
  },
  {
   "cell_type": "code",
   "execution_count": null,
   "metadata": {
    "slideshow": {
     "slide_type": "fragment"
    }
   },
   "outputs": [],
   "source": [
    "options(repr.plot.width=16, repr.plot.height=6) # set size of plot below\n",
    "\n",
    "# count the number of times each patient number occurs in the data\n",
    "diabetic_clean %>%\n",
    "  count(patient_nbr) %>%\n",
    "  arrange(desc(n)) %>%\n",
    "  # make a histogram of these counts\n",
    "  ggplot() +\n",
    "  geom_histogram(aes(x = n), binwidth = 1, col = \"white\") +\n",
    "  scale_x_continuous(\"Number of encounters\", breaks = 1:40) +\n",
    "  scale_y_continuous(\"Number of patients\", expand = c(0, 0)) +\n",
    "  theme_classic(base_size = 20) "
   ]
  },
  {
   "cell_type": "markdown",
   "metadata": {
    "slideshow": {
     "slide_type": "slide"
    }
   },
   "source": [
    "## Explore the clean data\n",
    "\n",
    "### How many encounters result in readmission in 30 days?"
   ]
  },
  {
   "cell_type": "code",
   "execution_count": null,
   "metadata": {},
   "outputs": [],
   "source": [
    "diabetic_clean %>% \n",
    "  count(readmitted) %>%\n",
    "  print()"
   ]
  },
  {
   "cell_type": "markdown",
   "metadata": {
    "slideshow": {
     "slide_type": "slide"
    }
   },
   "source": [
    "## Explore the clean data\n",
    "\n",
    "### How is each variable related to `readmission`?"
   ]
  },
  {
   "cell_type": "code",
   "execution_count": null,
   "metadata": {},
   "outputs": [],
   "source": [
    "options(repr.plot.width=10, repr.plot.height=6) # set size of plot below\n",
    "\n",
    "diabetic_clean %>%\n",
    "  ggplot() +\n",
    "  geom_boxplot(aes(x = as.factor(readmitted), y = time_in_hospital)) +\n",
    "  theme_classic(base_size = 20) "
   ]
  },
  {
   "cell_type": "markdown",
   "metadata": {
    "slideshow": {
     "slide_type": "fragment"
    }
   },
   "source": [
    "I want to plot this for each variable -- write a function!"
   ]
  },
  {
   "cell_type": "code",
   "execution_count": null,
   "metadata": {},
   "outputs": [],
   "source": [
    "# a function to print the boxplots for any variable\n",
    "plotBoxplots <- function(.var) {\n",
    "  diabetic_clean %>%\n",
    "    ggplot() +\n",
    "    geom_boxplot(aes(x = readmitted, y = .data[[.var]])) +\n",
    "    theme_classic(base_size = 20) +\n",
    "    ggtitle(.var) +\n",
    "    scale_x_discrete(NULL, labels = c(\"Not readmitted\", \"readmitted\"))\n",
    "}"
   ]
  },
  {
   "cell_type": "code",
   "execution_count": null,
   "metadata": {
    "slideshow": {
     "slide_type": "fragment"
    }
   },
   "outputs": [],
   "source": [
    "options(repr.plot.width=10, repr.plot.height=6) # set size of plot below\n",
    "\n",
    "plotBoxplots(\"age\")"
   ]
  },
  {
   "cell_type": "markdown",
   "metadata": {
    "slideshow": {
     "slide_type": "fragment"
    }
   },
   "source": [
    "Then make a grid of plots"
   ]
  },
  {
   "cell_type": "code",
   "execution_count": null,
   "metadata": {
    "slideshow": {
     "slide_type": "-"
    }
   },
   "outputs": [],
   "source": [
    "boxplot_list <- diabetic_clean %>%\n",
    "  # remove the variables we don't want to plot\n",
    "  select_if(is.numeric) %>%\n",
    "  select(-patient_nbr, -encounter_id) %>%\n",
    "  colnames %>%\n",
    "  # apply the plotBoxplots function to each column name\n",
    "  map(plotBoxplots)"
   ]
  },
  {
   "cell_type": "code",
   "execution_count": null,
   "metadata": {},
   "outputs": [],
   "source": [
    "options(repr.plot.width=18, repr.plot.height=18) # set size of plot below\n",
    "\n",
    "gridExtra::grid.arrange(grobs = boxplot_list)"
   ]
  },
  {
   "cell_type": "markdown",
   "metadata": {
    "slideshow": {
     "slide_type": "slide"
    }
   },
   "source": [
    "## Explore the clean data\n",
    "\n",
    "### How are **categorical variables** related to `readmission`?"
   ]
  },
  {
   "cell_type": "code",
   "execution_count": null,
   "metadata": {
    "slideshow": {
     "slide_type": "-"
    }
   },
   "outputs": [],
   "source": [
    "printDotPlot <- function(.var, legend = TRUE, .base_size = 20) {\n",
    "  proportions <- diabetic_clean %>%\n",
    "    count(readmitted, .data[[.var]]) %>%\n",
    "    drop_na() %>%\n",
    "    group_by(readmitted) %>%\n",
    "    mutate(prop = round(n / sum(n), 3)) %>%\n",
    "    ungroup() \n",
    "  p <- proportions %>%\n",
    "    ggplot() +\n",
    "    geom_point(aes(x = prop, y = .data[[.var]], col = readmitted),\n",
    "               size = 6, alpha = 0.8) +\n",
    "    theme_classic(base_size = .base_size) +\n",
    "    theme(panel.grid.major.y = element_line(color = \"grey50\"),\n",
    "          axis.line = element_blank()) \n",
    "    scale_x_continuous(\"Proportion of patients\", limits = c(0, 1))\n",
    "  if (legend) {\n",
    "      p + theme(legend.position = \"top\")\n",
    "  } else {\n",
    "      p + theme(legend.position = \"none\")\n",
    "  }\n",
    "}"
   ]
  },
  {
   "cell_type": "code",
   "execution_count": null,
   "metadata": {},
   "outputs": [],
   "source": [
    "options(repr.plot.width=10, repr.plot.height=6) # set size of plot below\n",
    "\n",
    "printDotPlot(\"insulin\")"
   ]
  },
  {
   "cell_type": "code",
   "execution_count": null,
   "metadata": {},
   "outputs": [],
   "source": [
    "options(repr.plot.width=18, repr.plot.height=26) # set size of plot below\n",
    "\n",
    "dot_plot_list <- diabetic_clean %>% \n",
    "  select_if(is.character) %>%\n",
    "  colnames %>%\n",
    "  map(~printDotPlot(., legend = FALSE, .base_size = 14))\n",
    "gridExtra::grid.arrange(grobs = dot_plot_list, ncol = 4)"
   ]
  },
  {
   "cell_type": "markdown",
   "metadata": {
    "slideshow": {
     "slide_type": "slide"
    }
   },
   "source": [
    "## Pre-process data for modeling using tidymodels"
   ]
  },
  {
   "cell_type": "markdown",
   "metadata": {},
   "source": [
    "### Split the data into training and testing"
   ]
  },
  {
   "cell_type": "code",
   "execution_count": null,
   "metadata": {},
   "outputs": [],
   "source": [
    "# remove ID variables\n",
    "diabetic_clean <- diabetic_clean %>%\n",
    "  select(-encounter_id, -patient_nbr)\n",
    "\n",
    "# create a split object\n",
    "diabetic_split <- initial_split(diabetic_clean)"
   ]
  },
  {
   "cell_type": "code",
   "execution_count": null,
   "metadata": {},
   "outputs": [],
   "source": [
    "diabetic_split %>% print"
   ]
  },
  {
   "cell_type": "markdown",
   "metadata": {
    "slideshow": {
     "slide_type": "fragment"
    }
   },
   "source": [
    "If you want to extract the training and testing datasets you can"
   ]
  },
  {
   "cell_type": "code",
   "execution_count": null,
   "metadata": {},
   "outputs": [],
   "source": [
    "diabetic_train <- training(diabetic_split)\n",
    "diabetic_test <- testing(diabetic_split)"
   ]
  },
  {
   "cell_type": "code",
   "execution_count": null,
   "metadata": {},
   "outputs": [],
   "source": [
    "dim(diabetic_train)"
   ]
  },
  {
   "cell_type": "code",
   "execution_count": null,
   "metadata": {
    "scrolled": false
   },
   "outputs": [],
   "source": [
    "head(diabetic_train) %>%\n",
    "  print()"
   ]
  },
  {
   "cell_type": "markdown",
   "metadata": {
    "slideshow": {
     "slide_type": "slide"
    }
   },
   "source": [
    "## Pre-process using recipes"
   ]
  },
  {
   "cell_type": "code",
   "execution_count": null,
   "metadata": {},
   "outputs": [],
   "source": [
    "diabetic_recipe <-\n",
    "  # which consists of the formula (outcome ~ predictors)\n",
    "  recipe(readmitted ~ .,\n",
    "         data = diabetic_train) %>%\n",
    "  # impute the missing values\n",
    "  step_meanimpute(all_numeric()) %>%\n",
    "  step_modeimpute(all_nominal()) %>%\n",
    "  # remove features that have almost entirely identical values across all rows\n",
    "  step_nzv(all_predictors()) %>%\n",
    "  # convert categorical variables to dummy variables\n",
    "  step_dummy(all_nominal(), -readmitted) "
   ]
  },
  {
   "cell_type": "markdown",
   "metadata": {
    "slideshow": {
     "slide_type": "fragment"
    }
   },
   "source": [
    "If you want to extract the pre-processed data, you can"
   ]
  },
  {
   "cell_type": "code",
   "execution_count": null,
   "metadata": {},
   "outputs": [],
   "source": [
    "diabetic_preprocessed <- prep(diabetic_recipe, diabetic_train) %>% \n",
    "  bake(diabetic_train)"
   ]
  },
  {
   "cell_type": "code",
   "execution_count": null,
   "metadata": {},
   "outputs": [],
   "source": [
    "head(diabetic_preprocessed) %>% print(width = Inf)"
   ]
  },
  {
   "cell_type": "markdown",
   "metadata": {
    "slideshow": {
     "slide_type": "slide"
    }
   },
   "source": [
    "## Prepare logistic regression models"
   ]
  },
  {
   "cell_type": "code",
   "execution_count": null,
   "metadata": {
    "slideshow": {
     "slide_type": "fragment"
    }
   },
   "outputs": [],
   "source": [
    "logistic_regression_model <-\n",
    "  # specify that the model is logistic regression\n",
    "  logistic_reg() %>%\n",
    "  # select the engine/package that underlies the model\n",
    "  set_engine(\"glm\") %>%\n",
    "  # choose either the continuous regression or binary classification mode\n",
    "  set_mode(\"classification\") "
   ]
  },
  {
   "cell_type": "markdown",
   "metadata": {
    "slideshow": {
     "slide_type": "slide"
    }
   },
   "source": [
    "## Combine the pre-processing recipe and the model into a workflow"
   ]
  },
  {
   "cell_type": "code",
   "execution_count": null,
   "metadata": {},
   "outputs": [],
   "source": [
    "# LR workflow\n",
    "logistic_regression_workflow <- workflow() %>%\n",
    "  # add the recipe\n",
    "  add_recipe(diabetic_recipe) %>%\n",
    "  # add the model\n",
    "  add_model(logistic_regression_model)"
   ]
  },
  {
   "cell_type": "markdown",
   "metadata": {
    "slideshow": {
     "slide_type": "slide"
    }
   },
   "source": [
    "## Fit the models on the training set and evaluate on the test set"
   ]
  },
  {
   "cell_type": "code",
   "execution_count": null,
   "metadata": {},
   "outputs": [],
   "source": [
    "logistic_regression_fit <- logistic_regression_workflow %>%\n",
    "  # fit on the training set and evaluate on test set\n",
    "  last_fit(diabetic_split)"
   ]
  },
  {
   "cell_type": "code",
   "execution_count": null,
   "metadata": {},
   "outputs": [],
   "source": [
    "# extract predictions from the fitted model\n",
    "lr_predictions <- collect_predictions(logistic_regression_fit)\n",
    "# specify which metrics to use\n",
    "calculate_metrics <- metric_set(roc_auc, accuracy, sens, spec)\n",
    "# calculate the metrics\n",
    "calculate_metrics(lr_predictions, truth = readmitted, estimate = .pred_class, .pred_readmitted) %>%\n",
    "  print()"
   ]
  },
  {
   "cell_type": "code",
   "execution_count": null,
   "metadata": {},
   "outputs": [],
   "source": [
    "# confusion matrix\n",
    "table(truth = diabetic_test$readmitted, \n",
    "      estimate = lr_predictions$.pred_class)"
   ]
  },
  {
   "cell_type": "markdown",
   "metadata": {
    "slideshow": {
     "slide_type": "slide"
    }
   },
   "source": [
    "## Define a new reprocessing recipe with downsampling"
   ]
  },
  {
   "cell_type": "code",
   "execution_count": null,
   "metadata": {
    "slideshow": {
     "slide_type": "-"
    }
   },
   "outputs": [],
   "source": [
    "diabetic_downsample_recipe <-\n",
    "  # which consists of the formula (outcome ~ predictors)\n",
    "  recipe(readmitted ~ .,\n",
    "         data = diabetic_clean) %>%\n",
    "  # impute the missing values\n",
    "  step_meanimpute(all_numeric()) %>%\n",
    "  step_modeimpute(all_nominal()) %>%\n",
    "\n",
    "  #--------- add a downsampling step ----------------------\n",
    "  step_downsample(readmitted) %>%\n",
    "\n",
    "  # remove features that have almost entirely identical values across all rows\n",
    "  step_nzv(all_predictors()) %>%\n",
    "  # convert categorical variables to dummy variables\n",
    "  step_dummy(all_nominal(), -readmitted) "
   ]
  },
  {
   "cell_type": "markdown",
   "metadata": {},
   "source": [
    "Then update the workflow"
   ]
  },
  {
   "cell_type": "code",
   "execution_count": null,
   "metadata": {},
   "outputs": [],
   "source": [
    "# LR workflow\n",
    "logistic_regression_workflow <- logistic_regression_workflow %>%\n",
    "  update_recipe(diabetic_downsample_recipe)"
   ]
  },
  {
   "cell_type": "markdown",
   "metadata": {
    "slideshow": {
     "slide_type": "slide"
    }
   },
   "source": [
    "## Re-evaluate the models"
   ]
  },
  {
   "cell_type": "code",
   "execution_count": null,
   "metadata": {},
   "outputs": [],
   "source": [
    "logistic_regression_fit <- logistic_regression_workflow %>%\n",
    "  # fit on the training set and evaluate on test set\n",
    "  last_fit(diabetic_split)"
   ]
  },
  {
   "cell_type": "code",
   "execution_count": null,
   "metadata": {},
   "outputs": [],
   "source": [
    "# extract predictions from the fitted model\n",
    "lr_predictions <- collect_predictions(logistic_regression_fit)\n",
    "# specify which metrics to use\n",
    "calculate_metrics <- metric_set(roc_auc, accuracy, sens, spec)\n",
    "# calculate the metrics\n",
    "calculate_metrics(lr_predictions, truth = readmitted, estimate = .pred_class, .pred_readmitted) %>%\n",
    "  print()"
   ]
  },
  {
   "cell_type": "code",
   "execution_count": null,
   "metadata": {},
   "outputs": [],
   "source": [
    "# confusion matrix\n",
    "table(truth = diabetic_test$readmitted, \n",
    "      estimate = lr_predictions$.pred_class)"
   ]
  },
  {
   "cell_type": "markdown",
   "metadata": {
    "slideshow": {
     "slide_type": "slide"
    }
   },
   "source": [
    "## Create ROC curves on the test set"
   ]
  },
  {
   "cell_type": "code",
   "execution_count": null,
   "metadata": {},
   "outputs": [],
   "source": [
    "options(repr.plot.width=8, repr.plot.height=8) # set size of plot below\n",
    "\n",
    "# get ROC curve for logistic regression\n",
    "logistic_regression_fit$.predictions[[1]] %>%\n",
    "  roc_curve(readmitted, .pred_readmitted) %>%\n",
    "  ggplot() +\n",
    "  geom_line(aes(x = 1 - specificity, y = sensitivity)) +\n",
    "  geom_abline(intercept = 0, slope = 1, \n",
    "              col = \"grey40\", linetype = \"dashed\") +\n",
    "  scale_x_continuous(expand = c(0, 0)) +\n",
    "  scale_y_continuous(expand = c(0, 0)) +\n",
    "  theme_classic(base_size = 20) +\n",
    "  coord_fixed()"
   ]
  },
  {
   "cell_type": "markdown",
   "metadata": {},
   "source": [
    "## Examine variable importance and model coefficients"
   ]
  },
  {
   "cell_type": "markdown",
   "metadata": {},
   "source": [
    "For logistic regression:"
   ]
  },
  {
   "cell_type": "code",
   "execution_count": null,
   "metadata": {},
   "outputs": [],
   "source": [
    "# fit model on entire dataset\n",
    "lr_final <- fit(logistic_regression_workflow, diabetic_clean)\n",
    "# extract the logistic regression model object\n",
    "lr_obj <- pull_workflow_fit(lr_final)$fit"
   ]
  },
  {
   "cell_type": "code",
   "execution_count": null,
   "metadata": {},
   "outputs": [],
   "source": [
    "summary(lr_obj)"
   ]
  }
 ],
 "metadata": {
  "celltoolbar": "Slideshow",
  "kernelspec": {
   "display_name": "R",
   "language": "R",
   "name": "ir"
  },
  "language_info": {
   "codemirror_mode": "r",
   "file_extension": ".r",
   "mimetype": "text/x-r-source",
   "name": "R",
   "pygments_lexer": "r",
   "version": "4.0.0"
  }
 },
 "nbformat": 4,
 "nbformat_minor": 2
}
